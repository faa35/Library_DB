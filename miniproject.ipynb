{
 "cells": [
  {
   "cell_type": "markdown",
   "metadata": {},
   "source": [
    "# Mini Project"
   ]
  },
  {
   "cell_type": "markdown",
   "metadata": {},
   "source": [
    "## Objectives"
   ]
  },
  {
   "cell_type": "code",
   "execution_count": 3,
   "metadata": {},
   "outputs": [
    {
     "data": {
      "text/html": [
       "<span style=\"None\">displaylimit: Value None will be treated as 0 (no limit)</span>"
      ],
      "text/plain": [
       "displaylimit: Value None will be treated as 0 (no limit)"
      ]
     },
     "metadata": {},
     "output_type": "display_data"
    }
   ],
   "source": [
    "%load_ext sql\n",
    "%config SqlMagic.displaylimit = None\n"
   ]
  },
  {
   "cell_type": "code",
   "execution_count": null,
   "metadata": {},
   "outputs": [
    {
     "data": {
      "text/html": [
       "<span style=\"None\">Connecting to &#x27;sqlite:///go.db&#x27;</span>"
      ],
      "text/plain": [
       "Connecting to 'sqlite:///go.db'"
      ]
     },
     "metadata": {},
     "output_type": "display_data"
    },
    {
     "ename": "",
     "evalue": "",
     "output_type": "error",
     "traceback": [
      "\u001b[1;31mThe Kernel crashed while executing code in the current cell or a previous cell. \n",
      "\u001b[1;31mPlease review the code in the cell(s) to identify a possible cause of the failure. \n",
      "\u001b[1;31mClick <a href='https://aka.ms/vscodeJupyterKernelCrash'>here</a> for more info. \n",
      "\u001b[1;31mView Jupyter <a href='command:jupyter.viewOutput'>log</a> for further details."
     ]
    }
   ],
   "source": [
    "##IGNORE\n",
    "%sql sqlite:///go.db"
   ]
  },
  {
   "cell_type": "markdown",
   "metadata": {},
   "source": [
    "##IGNORE\n",
    "\n",
    "\n",
    "```sqlite\n",
    "(a)  SELECT DISTINCT carrier_id\n",
    "     FROM Flights\n",
    "     WHERE origin_city = 'Seattle WA' AND actual_time <= 30;\n",
    "```\n",
    "`CREATE INDEX`"
   ]
  },
  {
   "cell_type": "markdown",
   "metadata": {},
   "source": [
    "# Project starts from here"
   ]
  },
  {
   "cell_type": "code",
   "execution_count": null,
   "metadata": {},
   "outputs": [],
   "source": [
    "%%sql\n",
    "-- Items table\n",
    "CREATE TABLE Item (\n",
    "    ItemID INTEGER PRIMARY KEY AUTOINCREMENT,\n",
    "    Title TEXT NOT NULL,\n",
    "    Type TEXT NOT NULL,\n",
    "    Author TEXT,\n",
    "    PublicationDate TEXT,  -- Format: YYYY-MM-DD\n",
    "    Genre TEXT\n",
    ");\n",
    "\n",
    "-- Copies table\n",
    "CREATE TABLE Copy (\n",
    "    CopyID INTEGER PRIMARY KEY AUTOINCREMENT,\n",
    "    ItemID INTEGER NOT NULL,\n",
    "    Condition TEXT,\n",
    "    Availability INTEGER NOT NULL DEFAULT 1,  -- 1: available, 0: not available\n",
    "    FOREIGN KEY (ItemID) REFERENCES Item(ItemID)\n",
    ");\n",
    "\n",
    "-- Users table\n",
    "CREATE TABLE User (\n",
    "    UserID INTEGER PRIMARY KEY AUTOINCREMENT,\n",
    "    Name TEXT NOT NULL,\n",
    "    ContactInfo TEXT,\n",
    "    MembershipID TEXT UNIQUE,\n",
    "    TotalFines REAL DEFAULT 0,\n",
    "    IsVolunteer INTEGER DEFAULT 0  -- 0: no, 1: yes\n",
    ");\n",
    "\n",
    "-- Social Rooms table\n",
    "CREATE TABLE SocialRoom (\n",
    "    RoomID INTEGER PRIMARY KEY AUTOINCREMENT,\n",
    "    Name TEXT NOT NULL,\n",
    "    Capacity INTEGER NOT NULL\n",
    ");\n",
    "\n",
    "-- Events table\n",
    "CREATE TABLE Event (\n",
    "    EventID INTEGER PRIMARY KEY AUTOINCREMENT,\n",
    "    Name TEXT NOT NULL,\n",
    "    Date TEXT NOT NULL,  -- YYYY-MM-DD\n",
    "    Time TEXT NOT NULL,  -- HH:MM\n",
    "    Description TEXT,\n",
    "    RecommendedAudience TEXT,\n",
    "    RoomID INTEGER NOT NULL,\n",
    "    FOREIGN KEY (RoomID) REFERENCES SocialRoom(RoomID)\n",
    ");\n",
    "\n",
    "-- Personnel table\n",
    "CREATE TABLE Personnel (\n",
    "    PersonnelID INTEGER PRIMARY KEY AUTOINCREMENT,\n",
    "    Name TEXT NOT NULL,\n",
    "    Position TEXT NOT NULL,\n",
    "    ContactInfo TEXT\n",
    ");\n",
    "\n",
    "-- Future Items table\n",
    "CREATE TABLE FutureItem (\n",
    "    FutureItemID INTEGER PRIMARY KEY AUTOINCREMENT,\n",
    "    Title TEXT NOT NULL,\n",
    "    Author TEXT,\n",
    "    Type TEXT NOT NULL,\n",
    "    ExpectedArrivalDate TEXT  -- YYYY-MM-DD\n",
    ");\n",
    "\n",
    "-- Borrows table\n",
    "CREATE TABLE Borrows (\n",
    "    UserID INTEGER,\n",
    "    CopyID INTEGER,\n",
    "    BorrowDate TEXT,  -- YYYY-MM-DD\n",
    "    DueDate TEXT NOT NULL,\n",
    "    ReturnDate TEXT,\n",
    "    PRIMARY KEY (UserID, CopyID, BorrowDate),\n",
    "    FOREIGN KEY (UserID) REFERENCES User(UserID),\n",
    "    FOREIGN KEY (CopyID) REFERENCES Copy(CopyID)\n",
    ");\n",
    "\n",
    "-- Attends table\n",
    "CREATE TABLE Attends (\n",
    "    UserID INTEGER,\n",
    "    EventID INTEGER,\n",
    "    PRIMARY KEY (UserID, EventID),\n",
    "    FOREIGN KEY (UserID) REFERENCES User(UserID),\n",
    "    FOREIGN KEY (EventID) REFERENCES Event(EventID)\n",
    ");\n",
    "\n",
    "-- ManagesEvent table\n",
    "CREATE TABLE ManagesEvent (\n",
    "    PersonnelID INTEGER,\n",
    "    EventID INTEGER,\n",
    "    PRIMARY KEY (PersonnelID, EventID),\n",
    "    FOREIGN KEY (PersonnelID) REFERENCES Personnel(PersonnelID),\n",
    "    FOREIGN KEY (EventID) REFERENCES Event(EventID)\n",
    ");\n",
    "\n",
    "-- ManagesItem table\n",
    "CREATE TABLE ManagesItem (\n",
    "    PersonnelID INTEGER,\n",
    "    ItemID INTEGER,\n",
    "    PRIMARY KEY (PersonnelID, ItemID),\n",
    "    FOREIGN KEY (PersonnelID) REFERENCES Personnel(PersonnelID),\n",
    "    FOREIGN KEY (ItemID) REFERENCES Item(ItemID)\n",
    ");\n",
    "\n",
    "-- RecommendedFor table\n",
    "CREATE TABLE RecommendedFor (\n",
    "    ItemID INTEGER,\n",
    "    EventID INTEGER,\n",
    "    PRIMARY KEY (ItemID, EventID),\n",
    "    FOREIGN KEY (ItemID) REFERENCES Item(ItemID),\n",
    "    FOREIGN KEY (EventID) REFERENCES Event(EventID)\n",
    ");\n",
    "\n",
    "-- HelpRequest table\n",
    "CREATE TABLE HelpRequest (\n",
    "    RequestID INTEGER PRIMARY KEY AUTOINCREMENT,\n",
    "    UserID INTEGER NOT NULL,\n",
    "    PersonnelID INTEGER NOT NULL,\n",
    "    RequestDate TEXT NOT NULL,  -- YYYY-MM-DD\n",
    "    Issue TEXT NOT NULL,\n",
    "    Status TEXT DEFAULT 'Pending',\n",
    "    FOREIGN KEY (UserID) REFERENCES User(UserID),\n",
    "    FOREIGN KEY (PersonnelID) REFERENCES Personnel(PersonnelID)\n",
    ");\n",
    "\n",
    "\n",
    "CREATE TRIGGER update_availability_on_borrow\n",
    "AFTER INSERT ON Borrows\n",
    "WHEN NEW.ReturnDate IS NULL\n",
    "FOR EACH ROW\n",
    "BEGIN\n",
    "    UPDATE Copy\n",
    "    SET Availability = 0\n",
    "    WHERE CopyID = NEW.CopyID;\n",
    "END;\n",
    "\n",
    "\n",
    "\n",
    "\n",
    "CREATE TRIGGER IF NOT EXISTS set_availability_on_return\n",
    "AFTER UPDATE OF ReturnDate ON Borrows\n",
    "WHEN NEW.ReturnDate IS NOT NULL AND OLD.ReturnDate IS NULL\n",
    "BEGIN\n",
    "UPDATE Copy\n",
    "SET Availability = 1\n",
    "WHERE CopyID = NEW.CopyID;\n",
    "END;"
   ]
  }
 ],
 "metadata": {
  "kernelspec": {
   "display_name": "base",
   "language": "python",
   "name": "python3"
  },
  "language_info": {
   "codemirror_mode": {
    "name": "ipython",
    "version": 3
   },
   "file_extension": ".py",
   "mimetype": "text/x-python",
   "name": "python",
   "nbconvert_exporter": "python",
   "pygments_lexer": "ipython3",
   "version": "3.12.7"
  }
 },
 "nbformat": 4,
 "nbformat_minor": 4
}
